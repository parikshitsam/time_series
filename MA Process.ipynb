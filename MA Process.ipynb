{
 "cells": [
  {
   "cell_type": "markdown",
   "id": "21c2d548",
   "metadata": {},
   "source": [
    "# Simulating an MA(q) Process"
   ]
  },
  {
   "cell_type": "markdown",
   "id": "e95cf414",
   "metadata": {},
   "source": [
    "Let $\\epsilon_t$ be some white noise with mean 0 and variance $\\sigma^2$, then an MA(q) process is given by $x_t = \\sum_0 ^q \\beta_i \\epsilon_{t-i}$"
   ]
  },
  {
   "cell_type": "markdown",
   "id": "5aa317c4",
   "metadata": {},
   "source": [
    "An example of this process is a coin toss. If you get a dollar for heads and lose a dollar for tails then your average earning from 4 tosses is given by: $1/4 \\epsilon_t + 1/4 \\epsilon_{t-1} + 1/4 \\epsilon_{t-2} + 1/4 \\epsilon_{t-1}$. Let's try to simulate this..."
   ]
  },
  {
   "cell_type": "code",
   "execution_count": 1,
   "id": "2121ca50",
   "metadata": {},
   "outputs": [],
   "source": [
    "import numpy as np\n",
    "import matplotlib.pyplot as plt"
   ]
  },
  {
   "cell_type": "code",
   "execution_count": 2,
   "id": "80e4c365",
   "metadata": {},
   "outputs": [
    {
     "name": "stdout",
     "output_type": "stream",
     "text": [
      "[ 0  1  2  3  4  3  2  1  2  3  4  5  6  5  6  5  4  5  6  5  4  5  6  7\n",
      "  6  7  8  9  8  7  6  5  6  7  8  9  8  9  8  9 10 11 10 11 10 11 10  9\n",
      " 10 11 12 11 10 11 10 11 12 13 12 13 12 11 12 13 14 13 12 13 14 15 14 15\n",
      " 16 17 16 17 16 17 18 19 18 19 18 17 16 15 14 13 12 11 10  9  8  9  8  7\n",
      "  6  7  8  9 10]\n"
     ]
    },
    {
     "data": {
      "text/plain": [
       "10"
      ]
     },
     "execution_count": 2,
     "metadata": {},
     "output_type": "execute_result"
    }
   ],
   "source": [
    "time = np.arange(0,100,1)\n",
    "flips = np.random.randint(0, 2, size=100)\n",
    "earning = np.where(flips==1, 1, -1)\n",
    "sum_earning = []\n",
    "for num in range(100+1):\n",
    "    sum_earning.append(earning[:num].sum())\n",
    "sum_earning = np.array(sum_earning)\n",
    "print(sum_earning)\n",
    "earning.sum()"
   ]
  },
  {
   "cell_type": "code",
   "execution_count": 3,
   "id": "a1d290ff",
   "metadata": {},
   "outputs": [
    {
     "data": {
      "text/plain": [
       "Text(0, 0.5, 'Total Earnings')"
      ]
     },
     "execution_count": 3,
     "metadata": {},
     "output_type": "execute_result"
    },
    {
     "data": {
      "image/png": "[encoded data removed]",
      "text/plain": [
       "<Figure size 432x288 with 1 Axes>"
      ]
     },
     "metadata": {
      "needs_background": "light"
     },
     "output_type": "display_data"
    }
   ],
   "source": [
    "plt.plot(time,sum_earning[1:])\n",
    "plt.xlabel(\"Time\")\n",
    "plt.ylabel(\"Total Earnings\")"
   ]
  },
  {
   "cell_type": "code",
   "execution_count": 4,
   "id": "b4a7cbe6",
   "metadata": {},
   "outputs": [
    {
     "name": "stdout",
     "output_type": "stream",
     "text": [
      "h0: Random Walk\n",
      "ADF Statistic: -2.159143\n",
      "p-value: 0.221407\n",
      "\t1%: -3.498\n",
      "\t5%: -2.891\n",
      "\t10%: -2.582\n"
     ]
    }
   ],
   "source": [
    "from statsmodels.tsa.stattools import adfuller\n",
    "result = adfuller(sum_earning)\n",
    "print('h0: Random Walk')\n",
    "print('ADF Statistic: %f' % result[0])\n",
    "print('p-value: %f' % result[1])\n",
    "for key, value in result[4].items():\n",
    "    print('\\t%s: %.3f' % (key, value))"
   ]
  },
  {
   "cell_type": "code",
   "execution_count": null,
   "id": "cf2e6b96",
   "metadata": {},
   "outputs": [],
   "source": []
  }
 ],
 "metadata": {
  "kernelspec": {
   "display_name": "Python 3",
   "language": "python",
   "name": "python3"
  },
  "language_info": {
   "codemirror_mode": {
    "name": "ipython",
    "version": 3
   },
   "file_extension": ".py",
   "mimetype": "text/x-python",
   "name": "python",
   "nbconvert_exporter": "python",
   "pygments_lexer": "ipython3",
   "version": "3.8.8"
  }
 },
 "nbformat": 4,
 "nbformat_minor": 5
}
